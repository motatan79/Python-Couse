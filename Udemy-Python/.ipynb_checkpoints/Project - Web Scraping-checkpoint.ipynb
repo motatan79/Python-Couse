{
 "cells": [
  {
   "cell_type": "code",
   "execution_count": 1,
   "id": "0d152848",
   "metadata": {},
   "outputs": [],
   "source": [
    "# Goal: Get title of every book with two start rating"
   ]
  },
  {
   "cell_type": "code",
   "execution_count": 2,
   "id": "9b106632",
   "metadata": {},
   "outputs": [],
   "source": [
    "import requests\n",
    "import bs4"
   ]
  },
  {
   "cell_type": "code",
   "execution_count": 3,
   "id": "7c7090b3",
   "metadata": {},
   "outputs": [
    {
     "data": {
      "text/plain": [
       "'http://books.toscrape.com/catalogue/page-2.html'"
      ]
     },
     "execution_count": 3,
     "metadata": {},
     "output_type": "execute_result"
    }
   ],
   "source": [
    "# lo primero que hay que hacer es conocer como recorrer todas las paginas sabiendo que la url base es: \n",
    "'http://books.toscrape.com/catalogue/page-2.html'"
   ]
  },
  {
   "cell_type": "code",
   "execution_count": 7,
   "id": "97cf39d8",
   "metadata": {},
   "outputs": [],
   "source": [
    "base_url = 'http://books.toscrape.com/catalogue/page-{}.html'"
   ]
  },
  {
   "cell_type": "code",
   "execution_count": 13,
   "id": "605ef073",
   "metadata": {},
   "outputs": [
    {
     "name": "stdout",
     "output_type": "stream",
     "text": [
      "[1, 2, 3, 4, 5, 6, 7, 8, 9, 10, 11, 12, 13, 14, 15, 16, 17, 18, 19, 20, 21, 22, 23, 24, 25, 26, 27, 28, 29, 30, 31, 32, 33, 34, 35, 36, 37, 38, 39, 40, 41, 42, 43, 44, 45, 46, 47, 48, 49, 50]\n"
     ]
    },
    {
     "data": {
      "text/plain": [
       "'http://books.toscrape.com/catalogue/page-20.html'"
      ]
     },
     "execution_count": 13,
     "metadata": {},
     "output_type": "execute_result"
    }
   ],
   "source": [
    "page_numbers = list(range(1,51))\n",
    "print(page_numbers)\n",
    "base_url.format(20)"
   ]
  },
  {
   "cell_type": "code",
   "execution_count": 14,
   "id": "83b0e238",
   "metadata": {},
   "outputs": [],
   "source": [
    "res = requests.get(base_url.format(1))"
   ]
  },
  {
   "cell_type": "code",
   "execution_count": 15,
   "id": "a612cff6",
   "metadata": {},
   "outputs": [],
   "source": [
    "soup = bs4.BeautifulSoup(res.text, \"lxml\")"
   ]
  },
  {
   "cell_type": "code",
   "execution_count": 17,
   "id": "2cabf6da",
   "metadata": {},
   "outputs": [
    {
     "data": {
      "text/plain": [
       "20"
      ]
     },
     "execution_count": 17,
     "metadata": {},
     "output_type": "execute_result"
    }
   ],
   "source": [
    "# Para chequear que esta considerando todos los libros en esta página 1.\n",
    "# Como da 20 estamos seguros que lo está haciendo y que cada uno tiene información \n",
    "len(soup.select(\".product_pod\"))"
   ]
  },
  {
   "cell_type": "code",
   "execution_count": null,
   "id": "8eef8a73",
   "metadata": {},
   "outputs": [],
   "source": []
  }
 ],
 "metadata": {
  "kernelspec": {
   "display_name": "Python 3",
   "language": "python",
   "name": "python3"
  },
  "language_info": {
   "codemirror_mode": {
    "name": "ipython",
    "version": 3
   },
   "file_extension": ".py",
   "mimetype": "text/x-python",
   "name": "python",
   "nbconvert_exporter": "python",
   "pygments_lexer": "ipython3",
   "version": "3.8.8"
  }
 },
 "nbformat": 4,
 "nbformat_minor": 5
}
